{
  "nbformat": 4,
  "nbformat_minor": 0,
  "metadata": {
    "colab": {
      "provenance": []
    },
    "kernelspec": {
      "name": "python3",
      "display_name": "Python 3"
    },
    "language_info": {
      "name": "python"
    }
  },
  "cells": [
    {
      "cell_type": "markdown",
      "source": [
        "**Functions**"
      ],
      "metadata": {
        "id": "0YnYWwVoR587"
      }
    },
    {
      "cell_type": "markdown",
      "source": [
        "Question 1 - What is the difference between a function and a method in Python?\n",
        "\n",
        "Answer -  functions and methods are both used to perform a specific task, but there is a key difference between them based on how and where they are defined:\n",
        "\n",
        "Function:\n",
        "\n",
        "A function is a block of reusable code that is defined using the def keyword.\n",
        "It is not bound to any object.\n",
        "It can be called independently.\n",
        "\n",
        "Method:\n",
        "\n",
        "A method is a function that is associated with an object (usually a class instance).\n",
        "It is called using the dot notation on an object.\n",
        "Methods can access or modify the object’s data.\n",
        "\n",
        "Question 2 - Explain the concept of function arguments and parameters in Python.\n",
        "\n",
        "Answer - In Python, function arguments and parameters are essential concepts used when defining and calling functions. Though often used interchangeably, they have distinct meanings:\n",
        "\n",
        "Parameters:\n",
        "\n",
        "Parameters are placeholders in the function definition.\n",
        "They define what kind of data the function expects when called.\n",
        "\n",
        "Arguments:\n",
        "\n",
        "Arguments are the actual values you pass to the function when you call it.\n",
        "\n",
        "Question 3 - What are the different ways to define and call a function in Python?\n",
        "\n",
        "Answer - In Python, a function is a block of reusable code designed to perform a specific task. Functions help in organizing code, promoting reusability, and enhancing readability. There are several ways to define and call functions in Python, each serving different use cases.\n",
        "\n",
        "Question 4 -  What is the purpose of the `return` statement in a Python function?\n",
        "\n",
        "Answer - The return statement in Python functions:\n",
        "\n",
        "Sends a result back to the caller.\n",
        "\n",
        "Ends function execution.\n",
        "\n",
        "Can return single or multiple values.\n",
        "\n",
        "Defaults to returning None if not specified.\n",
        "\n",
        "It is essential for writing flexible and powerful functions that interact meaningfully with the rest of the program.\n",
        "\n",
        "Question 5 - What are iterators in Python and how do they differ from iterables?\n",
        "\n",
        "Answer  -  Iterators and iterables are foundational concepts used for looping and handling sequences of data. Although closely related, they serve different roles in the iteration process.\n",
        "\n",
        "Iterables (What You Can Loop Over)\n",
        "An iterable is any Python object capable of returning its elements one at a time. Common examples include:\n",
        "\n",
        "1)Lists\n",
        "\n",
        "2)Tuples\n",
        "\n",
        "3)Strings\n",
        "\n",
        "4)Sets\n",
        "\n",
        "Dictionaries\n",
        "\n",
        "Iterators (What Does the Looping)\n",
        "\n",
        "An iterator is an object that enables you to traverse through all the elements of an iterable one at a time. It implements two special methods:\n",
        "\n",
        "__iter__() — returns the iterator object itself.\n",
        "\n",
        "__next__() — returns the next item from the iterable. When there are no more items, it raises a StopIteration exception.\n",
        "\n",
        "Question 6 -  Explain the concept of generators in Python and how they are defined.\n",
        "\n",
        "Answer - In Python, a generator is a special type of iterator that allows you to iterate over a sequence of values on the fly, without storing the entire sequence in memory. Generators are used to produce data lazily — generating items only when needed — which makes them very memory efficient, especially for large datasets or infinite sequences.\n",
        "\n",
        "Question 7 -  What are the advantages of using generators over regular functions?\n",
        "\n",
        "Answer -  Advantages of Using Generators Over Regular Functions (in Theory)\n",
        "Generators in Python offer several key advantages over regular functions, particularly when working with large data sets or when performance and memory efficiency are important. Here's a theoretical explanation of these advantages:\n",
        "1. Memory Efficiency\n",
        "2. Lazy Evaluation\n",
        "3. Improved Performance\n",
        "4. Simpler Code for Iterators\n",
        "\n",
        "Question 8 - What is a lambda function in Python and when is it typically used?\n",
        "\n",
        "Answer - A lambda function in Python is a small, anonymous function that is defined using the lambda keyword instead of the standard def keyword. It is typically used for creating simple, one-time-use functions in a concise and readable way.\n",
        "\n",
        "Question 9 - Explain the purpose and usage of the `map()` function in Python.\n",
        "\n",
        "Answer - Purpose and Usage of map() Function in Python – Theoretical Explanation\n",
        "The map() function in Python is a built-in functional programming tool used to apply a specific function to each item in an iterable (such as a list, tuple, or set) and return a new map object containing the results.\n",
        "\n",
        "Purpose of map()\n",
        "\n",
        "The main purpose of map() is to transform data by applying a function to every element in a sequence.\n",
        "\n",
        "It promotes cleaner, more concise, and functional-style coding, avoiding explicit loops.\n",
        "\n",
        "Question 10 - 10. What is the difference between `map()`, `reduce()`, and `filter()` functions in Python?\n",
        "\n",
        "Answer - Difference Between map(), reduce(), and filter() in Python – Theoretical Explanation\n",
        "\n",
        "1. map() – Transformation\n",
        "Purpose: To apply a function to each item in an iterable and return a new iterable with the transformed items.\n",
        "\n",
        "How it works: It processes every element independently and produces a new iterable of the same length.\n",
        "\n",
        " 2. filter() – Selection\n",
        "Purpose: To filter elements in an iterable based on a condition (boolean function).\n",
        "\n",
        "How it works: Applies a function that returns True or False for each item. Only items that return True are included in the result.\n",
        "\n",
        " 3. reduce() – Aggregation\n",
        "Purpose: To combine elements of an iterable using a specified function, reducing them to a single cumulative value.\n",
        "\n",
        "How it works: It applies the function cumulatively to pairs of items, reducing the iterable step by step.\n"
      ],
      "metadata": {
        "id": "SU6pPraZR-qi"
      }
    },
    {
      "cell_type": "code",
      "source": [
        "#1. Write a Python function that takes a list of numbers as input and returns the sum of all even numbers in the list.\n",
        "\n",
        "def sum_of_even_numbers(numbers):\n",
        "    total = 0\n",
        "    for num in numbers:\n",
        "        if num % 2 == 0:\n",
        "            total += num\n",
        "    return total\n",
        "\n",
        "my_list = [1, 2, 3, 4, 5, 6]\n",
        "result = sum_of_even_numbers(my_list)\n",
        "print(\"Sum of even numbers:\", result)\n",
        "\n",
        "\n",
        "\n",
        "\n"
      ],
      "metadata": {
        "colab": {
          "base_uri": "https://localhost:8080/"
        },
        "id": "wbvtRu4MYG8L",
        "outputId": "5a707aae-0603-43a8-d36d-56f447f0f10e"
      },
      "execution_count": 29,
      "outputs": [
        {
          "output_type": "stream",
          "name": "stdout",
          "text": [
            "Sum of even numbers: 12\n"
          ]
        }
      ]
    },
    {
      "cell_type": "code",
      "source": [
        "#2  Create a Python function that accepts a string and returns the reverse of that string\n",
        "\n",
        "def reverse_string(text):\n",
        "    return text[::-1]\n",
        "\n",
        "input_text = \"Python\"\n",
        "reversed_text = reverse_string(input_text)\n",
        "print(\"Original string:\", input_text)\n",
        "print(\"Reversed string:\", reversed_text)\n",
        "\n",
        "\n",
        "\n",
        "\n",
        "\n"
      ],
      "metadata": {
        "colab": {
          "base_uri": "https://localhost:8080/"
        },
        "id": "oOP9aw2pZTrD",
        "outputId": "5539cb7d-0eee-4bda-fed7-12a1a619c613"
      },
      "execution_count": 30,
      "outputs": [
        {
          "output_type": "stream",
          "name": "stdout",
          "text": [
            "Original string: Python\n",
            "Reversed string: nohtyP\n"
          ]
        }
      ]
    },
    {
      "cell_type": "code",
      "source": [
        "#3  Implement a Python function that takes a list of integers and returns a new list containing the squares of each number.\n",
        "\n",
        "def square_list(numbers):\n",
        "    return [num ** 2 for num in numbers]\n",
        "\n",
        "    input_list = [1, 2, 3, 4, 5]\n",
        "squared_list = square_list(input_list)\n",
        "\n",
        "print(\"Original list:\", input_list)\n",
        "print(\"Squared list:\", squared_list)\n",
        "\n"
      ],
      "metadata": {
        "colab": {
          "base_uri": "https://localhost:8080/"
        },
        "id": "jG079RFHZ-zj",
        "outputId": "a790ca4b-28d3-469e-f42a-4fae9a83ce03"
      },
      "execution_count": 31,
      "outputs": [
        {
          "output_type": "stream",
          "name": "stdout",
          "text": [
            "Original list: [1, 2, 3, 4, 5]\n",
            "Squared list: [1, 4, 9, 16, 25]\n"
          ]
        }
      ]
    },
    {
      "cell_type": "code",
      "source": [
        "#4  Write a Python function that checks if a given number is prime or not from 1 to 200.\n",
        "\n",
        "def is_prime(n):\n",
        "    if n < 2 or n > 200:\n",
        "        return False  # Outside the valid range\n",
        "    for i in range(2, int(n ** 0.5) + 1):\n",
        "        if n % i == 0:\n",
        "            return False\n",
        "    return True\n",
        "\n",
        "for number in range(1, 201):\n",
        "    if is_prime(number):\n",
        "        print(f\"{number} is a prime number.\")\n",
        "\n",
        "\n",
        "\n",
        "\n"
      ],
      "metadata": {
        "colab": {
          "base_uri": "https://localhost:8080/"
        },
        "id": "8g5DngtwaS2S",
        "outputId": "1488dff3-67f1-4428-eef9-98473ed7a101"
      },
      "execution_count": 32,
      "outputs": [
        {
          "output_type": "stream",
          "name": "stdout",
          "text": [
            "2 is a prime number.\n",
            "3 is a prime number.\n",
            "5 is a prime number.\n",
            "7 is a prime number.\n",
            "11 is a prime number.\n",
            "13 is a prime number.\n",
            "17 is a prime number.\n",
            "19 is a prime number.\n",
            "23 is a prime number.\n",
            "29 is a prime number.\n",
            "31 is a prime number.\n",
            "37 is a prime number.\n",
            "41 is a prime number.\n",
            "43 is a prime number.\n",
            "47 is a prime number.\n",
            "53 is a prime number.\n",
            "59 is a prime number.\n",
            "61 is a prime number.\n",
            "67 is a prime number.\n",
            "71 is a prime number.\n",
            "73 is a prime number.\n",
            "79 is a prime number.\n",
            "83 is a prime number.\n",
            "89 is a prime number.\n",
            "97 is a prime number.\n",
            "101 is a prime number.\n",
            "103 is a prime number.\n",
            "107 is a prime number.\n",
            "109 is a prime number.\n",
            "113 is a prime number.\n",
            "127 is a prime number.\n",
            "131 is a prime number.\n",
            "137 is a prime number.\n",
            "139 is a prime number.\n",
            "149 is a prime number.\n",
            "151 is a prime number.\n",
            "157 is a prime number.\n",
            "163 is a prime number.\n",
            "167 is a prime number.\n",
            "173 is a prime number.\n",
            "179 is a prime number.\n",
            "181 is a prime number.\n",
            "191 is a prime number.\n",
            "193 is a prime number.\n",
            "197 is a prime number.\n",
            "199 is a prime number.\n"
          ]
        }
      ]
    },
    {
      "cell_type": "code",
      "source": [
        "#5 Create an iterator class in Python that generates the Fibonacci sequence up to a specified number of terms.\n",
        "\n",
        "class FibonacciIterator:\n",
        "    def __init__(self, max_terms):\n",
        "        self.max_terms = max_terms\n",
        "        self.count = 0\n",
        "        self.a, self.b = 0, 1\n",
        "\n",
        "    def __iter__(self):\n",
        "        return self\n",
        "\n",
        "    def __next__(self):\n",
        "        if self.count >= self.max_terms:\n",
        "            raise StopIteration\n",
        "        if self.count == 0:\n",
        "            self.count += 1\n",
        "            return 0\n",
        "        elif self.count == 1:\n",
        "            self.count += 1\n",
        "            return 1\n",
        "        else:\n",
        "            self.a, self.b = self.b, self.a + self.b\n",
        "            self.count += 1\n",
        "            return self.a\n",
        "\n",
        "# Generate first 10 Fibonacci numbers\n",
        "fib = FibonacciIterator(10)\n",
        "\n",
        "for num in fib:\n",
        "    print(num, end=\" \")\n"
      ],
      "metadata": {
        "colab": {
          "base_uri": "https://localhost:8080/"
        },
        "id": "nWxCprNgamfr",
        "outputId": "df2dc39a-bd70-400b-94b1-1fe91259964c"
      },
      "execution_count": 33,
      "outputs": [
        {
          "output_type": "stream",
          "name": "stdout",
          "text": [
            "0 1 1 1 2 3 5 8 13 21 "
          ]
        }
      ]
    },
    {
      "cell_type": "code",
      "source": [
        "#6  Write a generator function in Python that yields the powers of 2 up to a given exponent.\n",
        "\n",
        "def powers_of_two(max_exponent):\n",
        "    for i in range(max_exponent + 1):\n",
        "        yield 2 ** i\n",
        "\n",
        "# Generate powers of 2 from 2⁰ to 2⁵\n",
        "for power in powers_of_two(5):\n",
        "    print(power)\n",
        "\n",
        "\n"
      ],
      "metadata": {
        "colab": {
          "base_uri": "https://localhost:8080/"
        },
        "id": "MsUKWLIHbErM",
        "outputId": "928a63e0-e204-4854-d078-f96ae9c9b047"
      },
      "execution_count": 34,
      "outputs": [
        {
          "output_type": "stream",
          "name": "stdout",
          "text": [
            "1\n",
            "2\n",
            "4\n",
            "8\n",
            "16\n",
            "32\n"
          ]
        }
      ]
    },
    {
      "cell_type": "code",
      "source": [
        "#7 Implement a generator function that reads a file line by line and yields each line as a string.\n",
        "\n",
        "def read_file_lines(filepath):\n",
        "    with open(filepath, 'r') as file:\n",
        "        for line in file:\n",
        "            yield line.rstrip('\\n')\n",
        "\n",
        "\n",
        "\n"
      ],
      "metadata": {
        "id": "a63TaEftbNXa"
      },
      "execution_count": null,
      "outputs": []
    },
    {
      "cell_type": "code",
      "source": [
        "#8  Use a lambda function in Python to sort a list of tuples based on the second element of each tuple.\n",
        "\n",
        "\n",
        "# List of tuples\n",
        "tuple_list = [(1, 4), (3, 1), (5, 2), (2, 3)]\n",
        "\n",
        "# Sort using lambda function (based on second element)\n",
        "sorted_list = sorted(tuple_list, key=lambda x: x[1])\n",
        "\n",
        "# Print the sorted list\n",
        "print(\"Sorted list:\", sorted_list)\n",
        "\n",
        "\n",
        "\n",
        "\n"
      ],
      "metadata": {
        "colab": {
          "base_uri": "https://localhost:8080/"
        },
        "id": "a52oTjFfbT-b",
        "outputId": "6d365439-7c80-4814-e6ec-f28841c0da90"
      },
      "execution_count": 41,
      "outputs": [
        {
          "output_type": "stream",
          "name": "stdout",
          "text": [
            "Sorted list: [(3, 1), (5, 2), (2, 3), (1, 4)]\n"
          ]
        }
      ]
    },
    {
      "cell_type": "code",
      "source": [
        "#9 Write a Python program that uses `map()` to convert a list of temperatures from Celsius to Fahrenheit.\n",
        "\n",
        "# List of temperatures in Celsius\n",
        "celsius_temps = [0, 20, 37, 100, -10]\n",
        "\n",
        "# Use map() with a lambda to convert to Fahrenheit\n",
        "fahrenheit_temps = list(map(lambda c: (c * 9/5) + 32, celsius_temps))\n",
        "\n",
        "# Print results\n",
        "print(\"Celsius temperatures:\", celsius_temps)\n",
        "print(\"Fahrenheit temperatures:\", fahrenheit_temps)\n",
        "\n",
        "\n"
      ],
      "metadata": {
        "colab": {
          "base_uri": "https://localhost:8080/"
        },
        "id": "l33RLZn5beO7",
        "outputId": "42138ce3-b9ed-4235-f745-9dc92f938bfb"
      },
      "execution_count": 42,
      "outputs": [
        {
          "output_type": "stream",
          "name": "stdout",
          "text": [
            "Celsius temperatures: [0, 20, 37, 100, -10]\n",
            "Fahrenheit temperatures: [32.0, 68.0, 98.6, 212.0, 14.0]\n"
          ]
        }
      ]
    },
    {
      "cell_type": "code",
      "source": [
        "#10 Create a Python program that uses `filter()` to remove all the vowels from a given string.\n",
        "\n",
        "def remove_vowels(input_string):\n",
        "    vowels = 'aeiouAEIOU'\n",
        "    # Filter out vowels using a lambda function\n",
        "    result = filter(lambda char: char not in vowels, input_string)\n",
        "    return ''.join(result)\n",
        "\n",
        "# Example usage\n",
        "text = \"Beautiful Python Programming\"\n",
        "filtered_text = remove_vowels(text)\n",
        "\n",
        "print(\"Original string:\", text)\n",
        "print(\"String without vowels:\", filtered_text)\n"
      ],
      "metadata": {
        "colab": {
          "base_uri": "https://localhost:8080/"
        },
        "id": "ipBGo1dqboGr",
        "outputId": "069a30fe-445c-455d-d5ef-019e0f2ac0c6"
      },
      "execution_count": 38,
      "outputs": [
        {
          "output_type": "stream",
          "name": "stdout",
          "text": [
            "Original string: Beautiful Python Programming\n",
            "String without vowels: Btfl Pythn Prgrmmng\n"
          ]
        }
      ]
    }
  ]
}